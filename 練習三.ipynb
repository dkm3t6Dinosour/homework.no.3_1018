while True:
    user_input = input("請輸入一個正整數，或按Enter退出： ")
    
    if user_input == "":
        print("程式結束。")
        break

    try:
        number = int(user_input)
        if number <= 0:
            print("請輸入正整數。")
            continue

        factors = []
        for i in range(1, number + 1):
            if number % i == 0:
                factors.append(i)

        print(f"{number} 的因數是： {factors}")

    except ValueError:
        print("請輸入一個有效的整數。")
